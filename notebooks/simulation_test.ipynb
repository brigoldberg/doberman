{
 "cells": [
  {
   "cell_type": "code",
   "execution_count": 1,
   "id": "c8f1ddf0",
   "metadata": {},
   "outputs": [],
   "source": [
    "import sys\n",
    "import os\n",
    "app_path = os.path.join(os.path.expanduser('~/sandbox/doberman/'))\n",
    "sys.path.append(app_path)\n",
    "from doberman import Universe\n",
    "from doberman import EMA\n",
    "from doberman import Simulation"
   ]
  },
  {
   "cell_type": "code",
   "execution_count": 2,
   "id": "1fd3bd45",
   "metadata": {},
   "outputs": [],
   "source": [
    "universe = Universe(['aapl', 'nvda'])\n",
    "universe.load_data()\n",
    "universe.align_dates('2020-01-01', '2020-12-31')"
   ]
  },
  {
   "cell_type": "code",
   "execution_count": 3,
   "id": "bae2bfb7",
   "metadata": {},
   "outputs": [],
   "source": [
    "ema = EMA(universe)"
   ]
  },
  {
   "cell_type": "code",
   "execution_count": 4,
   "id": "c93a59a7",
   "metadata": {},
   "outputs": [],
   "source": [
    "simulation = Simulation(universe)"
   ]
  },
  {
   "cell_type": "code",
   "execution_count": 5,
   "id": "0963bba5",
   "metadata": {},
   "outputs": [],
   "source": [
    "simulation.paper_trade()"
   ]
  },
  {
   "cell_type": "code",
   "execution_count": 6,
   "id": "9eb49709",
   "metadata": {},
   "outputs": [],
   "source": [
    "last_trade = universe.stocks['aapl'].tsdb.index[-1]"
   ]
  },
  {
   "cell_type": "code",
   "execution_count": 7,
   "id": "22d16fae",
   "metadata": {},
   "outputs": [
    {
     "name": "stdout",
     "output_type": "stream",
     "text": [
      "cash-usd 92913.78326416016\n",
      "aapl 0\n",
      "nvda 100\n",
      "Simulation PnL: $105957.39\n"
     ]
    }
   ],
   "source": [
    "simulation.calc_pnl(last_trade)"
   ]
  }
 ],
 "metadata": {
  "kernelspec": {
   "display_name": "Python 3 (ipykernel)",
   "language": "python",
   "name": "python3"
  },
  "language_info": {
   "codemirror_mode": {
    "name": "ipython",
    "version": 3
   },
   "file_extension": ".py",
   "mimetype": "text/x-python",
   "name": "python",
   "nbconvert_exporter": "python",
   "pygments_lexer": "ipython3",
   "version": "3.9.5"
  }
 },
 "nbformat": 4,
 "nbformat_minor": 5
}
