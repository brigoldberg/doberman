{
 "cells": [
  {
   "cell_type": "code",
   "execution_count": 1,
   "id": "680c440f",
   "metadata": {},
   "outputs": [],
   "source": [
    "import sys\n",
    "import os\n",
    "app_path = os.path.join(os.path.expanduser('~/sandbox/doberman/'))\n",
    "sys.path.append(app_path)\n",
    "from doberman import TradeBook"
   ]
  },
  {
   "cell_type": "code",
   "execution_count": 2,
   "id": "aa4fecb7",
   "metadata": {},
   "outputs": [],
   "source": [
    "tb = TradeBook()"
   ]
  },
  {
   "cell_type": "code",
   "execution_count": 3,
   "id": "51c167e7",
   "metadata": {},
   "outputs": [],
   "source": [
    "tb.update_book('xom', 100)\n",
    "tb.update_book('aapl', 50)"
   ]
  },
  {
   "cell_type": "code",
   "execution_count": 4,
   "id": "d7f7220c",
   "metadata": {},
   "outputs": [
    {
     "data": {
      "text/plain": [
       "5813.349533081055"
      ]
     },
     "execution_count": 4,
     "metadata": {},
     "output_type": "execute_result"
    }
   ],
   "source": [
    "tb.calc_position_size('xom', '2019-10-09')"
   ]
  },
  {
   "cell_type": "code",
   "execution_count": 5,
   "id": "c43276c3",
   "metadata": {},
   "outputs": [
    {
     "data": {
      "text/plain": [
       "2787.9674911499023"
      ]
     },
     "execution_count": 5,
     "metadata": {},
     "output_type": "execute_result"
    }
   ],
   "source": [
    "tb.calc_position_size('aapl', '2019-10-09')"
   ]
  },
  {
   "cell_type": "code",
   "execution_count": 6,
   "id": "4afb8541",
   "metadata": {},
   "outputs": [
    {
     "data": {
      "text/plain": [
       "108601.31702423096"
      ]
     },
     "execution_count": 6,
     "metadata": {},
     "output_type": "execute_result"
    }
   ],
   "source": [
    "tb.calc_book_size('2019-10-09')"
   ]
  }
 ],
 "metadata": {
  "kernelspec": {
   "display_name": "Python 3 (ipykernel)",
   "language": "python",
   "name": "python3"
  },
  "language_info": {
   "codemirror_mode": {
    "name": "ipython",
    "version": 3
   },
   "file_extension": ".py",
   "mimetype": "text/x-python",
   "name": "python",
   "nbconvert_exporter": "python",
   "pygments_lexer": "ipython3",
   "version": "3.9.5"
  }
 },
 "nbformat": 4,
 "nbformat_minor": 5
}
